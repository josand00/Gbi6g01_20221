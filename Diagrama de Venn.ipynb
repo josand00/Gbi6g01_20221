{
  "nbformat": 4,
  "nbformat_minor": 0,
  "metadata": {
    "colab": {
      "name": "Untitled0.ipynb",
      "provenance": [],
      "authorship_tag": "ABX9TyM1Zdr6VUJCO3uZC99n3RwQ",
      "include_colab_link": true
    },
    "kernelspec": {
      "name": "python3",
      "display_name": "Python 3"
    },
    "language_info": {
      "name": "python"
    }
  },
  "cells": [
    {
      "cell_type": "markdown",
      "metadata": {
        "id": "view-in-github",
        "colab_type": "text"
      },
      "source": [
        "<a href=\"https://colab.research.google.com/github/josand00/Gbi6g01_20221/blob/main/Diagrama%20de%20Venn.ipynb\" target=\"_parent\"><img src=\"https://colab.research.google.com/assets/colab-badge.svg\" alt=\"Open In Colab\"/></a>"
      ]
    },
    {
      "cell_type": "code",
      "source": [
        "rmac"
      ],
      "metadata": {
        "id": "gVqRoWF_Hr8z"
      },
      "execution_count": null,
      "outputs": []
    },
    {
      "cell_type": "markdown",
      "source": [
        "##**Diagrama de Venn**\n",
        "En este diagrama se colocarán los distintos medicamentos utilizados para el tratamiento del SARS y del SARS CoV-2 con el objetivo de encontrar cuantos de estos fármacos son utilizados para el tratamiento de ambos SARS.\n",
        "\n",
        "\n"
      ],
      "metadata": {
        "id": "IwT0mSyaN2Ja"
      }
    },
    {
      "cell_type": "code",
      "source": [
        "from google.colab import drive\n",
        "\n",
        "drive.mount(\"/content/drive\")\n"
      ],
      "metadata": {
        "colab": {
          "base_uri": "https://localhost:8080/"
        },
        "id": "ToWStWB2QbFA",
        "outputId": "3bccb656-4e02-465f-893f-77833c9f6a81"
      },
      "execution_count": 7,
      "outputs": [
        {
          "output_type": "stream",
          "name": "stdout",
          "text": [
            "Mounted at /content/drive\n"
          ]
        }
      ]
    },
    {
      "cell_type": "code",
      "source": [
        "import os\n",
        "os.chdir(\"drive/My Drive/Colab Notebooks\")"
      ],
      "metadata": {
        "id": "pLNaRzGfQ9kt"
      },
      "execution_count": 14,
      "outputs": []
    },
    {
      "cell_type": "code",
      "source": [
        "pwd"
      ],
      "metadata": {
        "colab": {
          "base_uri": "https://localhost:8080/",
          "height": 35
        },
        "id": "oxoSJwQURWLd",
        "outputId": "8c639e9e-ad28-4b11-cb97-57d16c839169"
      },
      "execution_count": 66,
      "outputs": [
        {
          "output_type": "execute_result",
          "data": {
            "text/plain": [
              "'/content/drive/MyDrive/Colab Notebooks'"
            ],
            "application/vnd.google.colaboratory.intrinsic+json": {
              "type": "string"
            }
          },
          "metadata": {},
          "execution_count": 66
        }
      ]
    },
    {
      "cell_type": "code",
      "source": [
        "import pandas as pd\n"
      ],
      "metadata": {
        "id": "FJRwUlkhTtb9"
      },
      "execution_count": 29,
      "outputs": []
    },
    {
      "cell_type": "code",
      "source": [
        "SARSCOV_=pd.read_excel('drugSARSCov.xlsx')\n",
        "\n",
        "SARSCOV_2=pd.read_excel('drugSARSCov2.xlsx')\n",
        "\n",
        "#Se importa la libreria \n",
        "import matplotlib.pyplot as plt\n",
        "from matplotlib_venn import venn2\n",
        "EspecificDrugSARSCoV= SARSCOV_['drug']\n",
        "EspecificDrugSARSCoV_2= SARSCOV_2['drug']\n",
        "venn2([set(EspecificDrugSARSCoV), set(EspecificDrugSARSCoV_2)], set_labels = ('SARS-specific drugs','COVID-19_specific_drugs'), set_colors=('green', 'blue'));\n",
        "plt.title('Relación_entre_medicamentos_SARSCoV_y_SARSCoV_2(Covid-19)')\n",
        "plt.title\n"
      ],
      "metadata": {
        "colab": {
          "base_uri": "https://localhost:8080/",
          "height": 284
        },
        "id": "7-4s84kEeFgI",
        "outputId": "1ac932a6-bd20-41b6-e03b-b533ca14114d"
      },
      "execution_count": 70,
      "outputs": [
        {
          "output_type": "execute_result",
          "data": {
            "text/plain": [
              "<function matplotlib.pyplot.title>"
            ]
          },
          "metadata": {},
          "execution_count": 70
        },
        {
          "output_type": "display_data",
          "data": {
            "text/plain": [
              "<Figure size 432x288 with 1 Axes>"
            ],
            "image/png": "[encoded data removed]"
          },
          "metadata": {}
        }
      ]
    }
  ]
}