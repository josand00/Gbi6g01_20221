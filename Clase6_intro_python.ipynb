{
  "nbformat": 4,
  "nbformat_minor": 0,
  "metadata": {
    "colab": {
      "name": "Clase6_intro_python.ipynb",
      "provenance": [],
      "authorship_tag": "ABX9TyMKqGNCY+2BrBmY7IYO6kIo",
      "include_colab_link": true
    },
    "kernelspec": {
      "name": "python3",
      "display_name": "Python 3"
    },
    "language_info": {
      "name": "python"
    }
  },
  "cells": [
    {
      "cell_type": "markdown",
      "metadata": {
        "id": "view-in-github",
        "colab_type": "text"
      },
      "source": [
        "<a href=\"https://colab.research.google.com/github/josand00/Gbi6g01_20221/blob/main/Clase6_intro_python.ipynb\" target=\"_parent\"><img src=\"https://colab.research.google.com/assets/colab-badge.svg\" alt=\"Open In Colab\"/></a>"
      ]
    },
    {
      "cell_type": "markdown",
      "source": [
        "# BIOINFORMATICA\n",
        "## INTRODUCCION A PYTHON\n",
        "\n",
        "\n",
        "1. HISTORIA DE PYTHON\n",
        "\n",
        "La historia de de python se puede leer en la pagina web (python) <https://www.python.org/doc/>\n",
        "2. TIPOS DE DATOS \n",
        "3. OPERACIONES CON NUMEROS \n",
        "4. OPERACIONES CON TEXTO \n",
        "\n",
        "\n"
      ],
      "metadata": {
        "id": "TbRE43W4x3pi"
      }
    },
    {
      "cell_type": "markdown",
      "source": [
        "## 2. tipos de Datos\n",
        "- Numericos: enteros (integer, int), decimales (double), complejos (complex)\n",
        "- Logicos: verdaderos (TRUE t), Falso (FALSE F)\n",
        "- Texto: cadena de caracteres \"siempre entre comillas\""
      ],
      "metadata": {
        "id": "ukWGvWtG0UbV"
      }
    },
    {
      "cell_type": "code",
      "execution_count": 2,
      "metadata": {
        "id": "WhI4YjyGw9tL"
      },
      "outputs": [],
      "source": [
        "gen1_r = 1.5\n",
        "gen1_h = 1.7\n",
        "dif_gen1 = gen1_r - gen1_h\n",
        "ratio_gen1 = gen1_r / gen1_h\n"
      ]
    },
    {
      "cell_type": "code",
      "source": [
        "print(\"gen1_h:\", gen1_h)\n",
        "print(\"gen1_r:\", gen1_r)\n",
        "print(\"dif_gen1:\", dif_gen1)\n",
        "print(\"ratio_gen1:\", ratio_gen1)\n"
      ],
      "metadata": {
        "colab": {
          "base_uri": "https://localhost:8080/"
        },
        "id": "7QYu4PjZx3Di",
        "outputId": "17606a19-e802-42be-abbc-dcbb8928f042"
      },
      "execution_count": 5,
      "outputs": [
        {
          "output_type": "stream",
          "name": "stdout",
          "text": [
            "gen1_h: 1.7\n",
            "gen1_r: 1.5\n",
            "dif_gen1: -0.19999999999999996\n",
            "ratio_gen1: 0.8823529411764706\n"
          ]
        }
      ]
    },
    {
      "cell_type": "markdown",
      "source": [
        "Operaciones con texto "
      ],
      "metadata": {
        "id": "tGj4hF4g72Vq"
      }
    },
    {
      "cell_type": "code",
      "source": [
        "saludo = \"hola con todos, que bueno que no hay examen.\" \n",
        "len(saludo)"
      ],
      "metadata": {
        "colab": {
          "base_uri": "https://localhost:8080/"
        },
        "id": "FOxWWYCH77bx",
        "outputId": "6869ca71-1a05-4cc3-f1ce-f62e4055b192"
      },
      "execution_count": 8,
      "outputs": [
        {
          "output_type": "execute_result",
          "data": {
            "text/plain": [
              "44"
            ]
          },
          "metadata": {},
          "execution_count": 8
        }
      ]
    },
    {
      "cell_type": "code",
      "source": [
        "#en este bloque se revisa el uso combinado de funciones \n",
        "total = len(saludo)\n",
        "char_a = saludo.count(\"a\")\n",
        "ratio_a = 100*char_a / total \n",
        "print(\"porcentaje de a:\", ratio_a)"
      ],
      "metadata": {
        "colab": {
          "base_uri": "https://localhost:8080/"
        },
        "id": "wqlHYkge-OQE",
        "outputId": "42c2dc7e-b4c9-4c83-f850-a91962766127"
      },
      "execution_count": 15,
      "outputs": [
        {
          "output_type": "stream",
          "name": "stdout",
          "text": [
            "porcentaje de a: 6.818181818181818\n"
          ]
        }
      ]
    },
    {
      "cell_type": "markdown",
      "source": [
        "Procentaje de GC"
      ],
      "metadata": {
        "id": "xFSRkkjp_sWB"
      }
    },
    {
      "cell_type": "code",
      "source": [
        "p53_11 = \"TTCCTGGNCTGTAGGTAGCGACTACAGTTAGGGGGCACCTAGCATTCAGGCCCTCATCCTCCTCCTTCCC\"\n",
        "total_caracteres = len(p53_11)\n",
        "total_C = p53_11.count(\"C\")\n",
        "total_G = p53_11.count(\"G\")\n",
        "suma_de_GC = total_C + total_G \n",
        "division_GC = suma_de_GC / total_caracteres\n",
        "porcentaje_GC = division_GC*100\n",
        "print(\"Porcentaje de GC:\", porcentaje_GC)\n"
      ],
      "metadata": {
        "colab": {
          "base_uri": "https://localhost:8080/"
        },
        "id": "GlvUEsY1_ue7",
        "outputId": "e57039c9-4e0d-4550-e916-63582f666b6a"
      },
      "execution_count": 21,
      "outputs": [
        {
          "output_type": "stream",
          "name": "stdout",
          "text": [
            "Porcentaje de GC: 57.14285714285714\n"
          ]
        }
      ]
    },
    {
      "cell_type": "code",
      "source": [
        "#subconjunto \n",
        "print(p53_11)\n",
        "\n",
        "fi = p53_11.find(\"TAC\")\n",
        "ff1 = p53_11.find(\"ATT\")\n",
        "ff2 = p53_11.find(\"ATC\")\n",
        "ff3 = p53_11.find(\"ACT\")\n",
        "\n",
        "p53_11[3:6]\n",
        "\n",
        "# sacar la parte de la secuencia\n",
        "mRNA_f1 = p53_11[fi:ff1+3]\n",
        "mRNA_f1\n",
        "\n",
        "#cadena complementaaria \n",
        "print(saludo)\n",
        "saludo.replace(\"x\",\"e\")"
      ],
      "metadata": {
        "colab": {
          "base_uri": "https://localhost:8080/",
          "height": 70
        },
        "id": "LJWhptf3_unS",
        "outputId": "1ffc3d08-38b0-4dcb-fb4a-af97950bac56"
      },
      "execution_count": 49,
      "outputs": [
        {
          "output_type": "stream",
          "name": "stdout",
          "text": [
            "TTCCTGGNCTGTAGGTAGCGACTACAGTTAGGGGGCACCTAGCATTCAGGCCCTCATCCTCCTCCTTCCC\n",
            "hola con todos, que bueno que no hay examen.\n"
          ]
        },
        {
          "output_type": "execute_result",
          "data": {
            "text/plain": [
              "'hola con todos, que bueno que no hay eeamen.'"
            ],
            "application/vnd.google.colaboratory.intrinsic+json": {
              "type": "string"
            }
          },
          "metadata": {},
          "execution_count": 49
        }
      ]
    },
    {
      "cell_type": "code",
      "source": [
        "# sacar la parte de la secuencia\n",
        "mRNA_f1 = p53_11[fi:ff1+3]\n",
        "mRNA_f1"
      ],
      "metadata": {
        "colab": {
          "base_uri": "https://localhost:8080/",
          "height": 35
        },
        "id": "evpqi52HYVC9",
        "outputId": "97cfd61a-d400-439a-dc58-3d3c770e405a"
      },
      "execution_count": 50,
      "outputs": [
        {
          "output_type": "execute_result",
          "data": {
            "text/plain": [
              "'TACAGTTAGGGGGCACCTAGCATT'"
            ],
            "application/vnd.google.colaboratory.intrinsic+json": {
              "type": "string"
            }
          },
          "metadata": {},
          "execution_count": 50
        }
      ]
    },
    {
      "cell_type": "code",
      "source": [
        "p53_a = p53_11.replace(\"A\", \"t\")\n",
        "p53_c = p53_a.replace(\"C\", \"g\")\n",
        "p53_t = p53_c.replace(\"T\", \"a\")\n",
        "p53_g = p53_t.replace(\"G\", \"c\")\n",
        "p53_g_complemetario = p53_g.upper()\n",
        "\n",
        "print(\"cadena normal: \",p53_11)\n",
        "\n",
        "print(\"Cadena complementaria: \",p53_g_complemetario)\n",
        "\n",
        "p53_comple_reverse = p53_g_complemetario[::-1]\n",
        "print(\"cadena complentaria reverse: \", p53_comple_reverse )"
      ],
      "metadata": {
        "colab": {
          "base_uri": "https://localhost:8080/"
        },
        "id": "REvrMkksRsPK",
        "outputId": "8bfaa63d-17ec-4cac-aeec-1fe80eb10339"
      },
      "execution_count": 48,
      "outputs": [
        {
          "output_type": "stream",
          "name": "stdout",
          "text": [
            "cadena normal:  TTCCTGGNCTGTAGGTAGCGACTACAGTTAGGGGGCACCTAGCATTCAGGCCCTCATCCTCCTCCTTCCC\n",
            "Cadena complementaria:  AAGGACCNGACATCCATCGCTGATGTCAATCCCCCGTGGATCGTAAGTCCGGGAGTAGGAGGAGGAAGGG\n",
            "cadena complentaria reverse:  GGGAAGGAGGAGGATGAGGGCCTGAATGCTAGGTGCCCCCTAACTGTAGTCGCTACCTACAGNCCAGGAA\n"
          ]
        }
      ]
    }
  ]
}